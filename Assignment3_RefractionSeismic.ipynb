{
 "cells": [
  {
   "cell_type": "markdown",
   "id": "19b1915a",
   "metadata": {},
   "source": [
    "<hr>\n",
    "<center><h1>Proespeccion Sismica II 2023-1 </h1></center>\n",
    "<center><h1>Assignment 1</h1></center>\n",
    "<hr>\n",
    "\n",
    "<hr>\n",
    "<center><h2>Lean loque se le pide, empezando con el nombre del archivo, y como tiene que llamarse.</h2></center>\n",
    "\n",
    "<hr>\n",
    "\n",
    "<hr>\n",
    "<center><h2>Fecha de Entrega Especificada por el profesor</h2></center>\n",
    "\n",
    "<hr>\n",
    "\n",
    "\n",
    "\n",
    "This notebook is the first graded assignment. It counts  a big to your final mark** in the exercise with **40 points** to be achieved in total! It covers the topics of regression presented in the lecture, but applied to a simple geophysical problem. \n",
    "\n",
    "Make sure to fill in any place that says \n",
    "```python\n",
    "# YOUR CODE HERE\n",
    "```\n",
    "\n",
    "Delete lines that read \n",
    "\n",
    "```python\n",
    "raise NotImplementedError()\n",
    "```\n",
    "\n",
    "when adding your solution.\n",
    "\n",
    "Fill in your name (and of your fellow students, if you submit together), and according matriculation number below. If you are more than one student, separate by a comma **,**\n",
    "\n",
    "<br>\n",
    "<div class=\"alert alert-warning\">\n",
    "  \n",
    "**Note**: This notebook is a graded assignment. You can work on this assignment alone or together in a group of two. \n",
    "<br>\n",
    "**Make sure you submit in the same group (or alone) that you formed for assignment 1**!\n",
    "</div>\n",
    "\n",
    "<div class=\"alert alert-warning\">\n",
    "<ul>\n",
    "<li>``GRUPNAME_ProspeccionSismicaII_2023_1_XXXXXX_XXXXXX.ipynb`` where XXXXXX corresponds to your NAME or SURNAMES:\n",
    "\n",
    "</ul>\n",
    "</div>\n",
    "\n",
    "Before you submit this assignment, make sure everything runs as you expect it to.  \n",
    "* **restart the kernel** (in the menubar, select Kernel -> Restart)\n",
    "* **run all cells** (in the menubar, select Cell -> Run All)\n",
    "\n",
    "<br>\n",
    "<div class=\"alert-danger\">\n",
    "<br><center> Remember: copying code from someone else and pretending it is your own is **serious scientific fraud**!\n",
    "\n",
    "\n",
    "\n"
   ]
  },
  {
   "cell_type": "code",
   "execution_count": 1,
   "id": "bf7aa769",
   "metadata": {},
   "outputs": [],
   "source": [
    "NAME = \"\"\n",
    "MATNUM = \"\""
   ]
  },
  {
   "cell_type": "code",
   "execution_count": 2,
   "id": "04c5ff5a",
   "metadata": {},
   "outputs": [],
   "source": [
    "# here the usual imports:\n",
    "import numpy as np\n",
    "import matplotlib.pyplot as plt\n",
    "import pandas as pd\n",
    "%matplotlib inline"
   ]
  },
  {
   "cell_type": "markdown",
   "id": "da87baff",
   "metadata": {},
   "source": [
    "## Preliminaries\n",
    "\n",
    "In this assignment notebook, you will **apply your new knowledge about functions and plot generation** together with the **efficient numerical methods** implemented in the `numpy` module to solve problems related to linear regression  in space. The focus of this assignment will be to implement new programming concepts and to apply those to problems we discussed in class."
   ]
  },
  {
   "cell_type": "markdown",
   "id": "40bca858",
   "metadata": {},
   "source": [
    "## Task 1 (Maximum points: 5 of 10): Linear regression with vectorised functions\n",
    "\n",
    "Using `numpy`, `matplotlib`, `numpy.linalg`,`pandas` vectorized  functions, functions, `for`,`while`, `if` and all you have learnt during the course to apply your knowledge to a simple geophysical problem.\n",
    "\n",
    "\n",
    "**Your task**: \n",
    "You must Complete  all points in the task to  get a 7 as maximum in the  exam.\n",
    "\n",
    "<ol>\n",
    "<li>Read the file Refraction_Horizontal which contains the  arrival times of a head wave and distances for  several  receptors.</li>\n",
    "<li>Plot the  curve X-T. </li>\n",
    "<li>Analyze the data and write  by ocular inspection and write how many layers</li>\n",
    "<li> Split the data to compute the line (Least Squares Linear Regression method) for the number of layers you identified </li>\n",
    "    \n",
    "* The first  line for the first layer should  intercept b=0, x=0, so take this into account when for the Linear inversion\n",
    "* I suggest you to create a function to compute the matrices for the linear inversion and the special case of b=0 and for the other case\n",
    "    \n",
    "    \n",
    "<li> Plot the number of lines computed by the linear regression  along with the values of distance and Time</li>\n",
    "<li> Using  the result values from the inversion and the following formula compute the velocity of the layers </li>\n",
    "    \n",
    "$$slope_{N}=1/V_{Nmedium}$$\n",
    "    \n",
    "<li> Compute the anlg of incidence  using the formula:</li>\n",
    "    \n",
    "$$i_{cn}=\\arcsin \\frac{V_{n-1}}{V_{n}}$$\n",
    "    \n",
    "<li>Calculate the thickness of N-1 Layers that you identified </li>\n",
    "    \n",
    "$$h_{0}=\\frac{T0_{1}\\:V0}{2 \\cos{i_c}}$$ \n",
    "\n",
    "$$h_{0}=\\frac{X_{cross1}}{2}\\sqrt{\\frac{V_1-V_0}{V_1+V_0}}$$ \n",
    "    \n",
    "$$h_{n}=\\frac{Vn}{\\cos{i_n}}(\\frac{T0_{n+1}}{2}-\\sum_{j=0}^{n-1} h_{j}\\sqrt{\\frac{1}{V_{j}^{2}}-\\frac{1}{V_{j+1}^{2}}})$$    \n",
    "    \n",
    "<li> Plot the  interval velocity model vs Thickness</li>    \n",
    "</ol>\n"
   ]
  },
  {
   "cell_type": "code",
   "execution_count": 3,
   "id": "f0527c62",
   "metadata": {},
   "outputs": [],
   "source": [
    "# Read the XLS file\n",
    "\n"
   ]
  },
  {
   "cell_type": "code",
   "execution_count": 148,
   "id": "5e5821c1",
   "metadata": {},
   "outputs": [],
   "source": [
    "# Read the file <.xls and store the first column into a distance array \n",
    "# and the sector column into a time array\n",
    "\n"
   ]
  },
  {
   "cell_type": "code",
   "execution_count": 149,
   "id": "cd83ba1b",
   "metadata": {},
   "outputs": [
    {
     "data": {
      "image/png": "[encoded data removed]",
      "text/plain": [
       "<Figure size 576x396 with 1 Axes>"
      ]
     },
     "metadata": {},
     "output_type": "display_data"
    }
   ],
   "source": [
    "# plot the values\n"
   ]
  },
  {
   "cell_type": "markdown",
   "id": "94b3e57c",
   "metadata": {},
   "source": [
    "##### How many layers can you detect?\n",
    "\n",
    "###### Write your answer:\n"
   ]
  },
  {
   "cell_type": "code",
   "execution_count": 5,
   "id": "45e1c41c",
   "metadata": {},
   "outputs": [],
   "source": [
    "# create a  function that you can use to  compute a linear regression for  b=0 and b=!0\n",
    "def lin_regression_vectorised(distance, time):\n",
    "    \n",
    "    \"\"\"Perform linear regression with vectorised numpy functions\n",
    "    \n",
    "    **Arguments**:\n",
    "    \n",
    "    x : numpy-array with x-values\n",
    "    y : numpy-array with y-values\n",
    "    \n",
    "    **Returns**:\n",
    "    \n",
    "    (a0, a1) : tuple of two numbers\n",
    "    \"\"\"    \n",
    "   \n",
    "    \n",
    "    return (a0, a1)\n",
    "    "
   ]
  },
  {
   "cell_type": "code",
   "execution_count": 6,
   "id": "0577a3b7",
   "metadata": {},
   "outputs": [],
   "source": [
    "# use your function  to compute the linear regressions for the number of layers that you identified\n"
   ]
  },
  {
   "cell_type": "code",
   "execution_count": 7,
   "id": "c038c3c8",
   "metadata": {},
   "outputs": [],
   "source": [
    "# plot the data and the results from the linear regression\n"
   ]
  },
  {
   "cell_type": "markdown",
   "id": "3ec1af9c",
   "metadata": {},
   "source": [
    "#### Cálculo de las velocidades\n",
    "\n",
    "Como sabemos, la pendiente de una recta esta dada por:\n",
    "\n",
    "$$y=mx+b$$\n",
    "\n",
    "Por lo que, usando los valores obtenidos de nuestras inversiones, tenemos que las pendientes son:\n",
    "\n",
    "$$m_1=a_1$$\n",
    "$$m_2=b_1$$\n",
    "$$m_3=c_1$$\n",
    "\n",
    "Y de la formula $slope_N=1/V_{Nmedium}$, despejando tenemos que la velocidad es el inverso de la pendiente:\n",
    "\n",
    "$$V_{Nmedium}=\\frac{1}{slope_N}$$"
   ]
  },
  {
   "cell_type": "code",
   "execution_count": 8,
   "id": "5b81c333",
   "metadata": {},
   "outputs": [],
   "source": [
    "# Velocidad capa 1 en m/s\n",
    "\n",
    "# Velocidad capa 2 en m/s\n",
    "\n",
    "# Velocidad capa 3 en m/s\n"
   ]
  },
  {
   "cell_type": "markdown",
   "id": "a43754c7",
   "metadata": {},
   "source": [
    "#### Ángulos de incidencia"
   ]
  },
  {
   "cell_type": "code",
   "execution_count": null,
   "id": "0df1ab37",
   "metadata": {},
   "outputs": [],
   "source": [
    "# compute the incidence angles\n",
    "\n",
    "\n",
    "\n",
    "\n"
   ]
  },
  {
   "cell_type": "markdown",
   "id": "46b211b7",
   "metadata": {},
   "source": [
    "#### Cálculo de los espesores\n",
    "\n",
    "Para la primer capa, se usará la formula:\n",
    "\n",
    "$$h_{0}=\\frac{X_{cross1}}{2}\\sqrt{\\frac{V_1-V_0}{V_1+V_0}}$$ \n",
    "\n",
    "y para encontrar $X_{cross1}$, se igualarán las primeras ecuaciones de las rectas para obtener el valor en $x$ donde se intersectan:\n",
    "\n",
    "$$y_1=a_0+a_1x$$\n",
    "$$y_2=b_0+b_1x$$ \n",
    "$$y_1=y_2$$\n",
    "$$a_0+a_1x=b_0+b_1x$$\n",
    "$$x=\\frac{b_0-a_0}{a_1-b_1}$$"
   ]
  },
  {
   "cell_type": "code",
   "execution_count": 1,
   "id": "9075618a",
   "metadata": {},
   "outputs": [],
   "source": [
    "#espesor dado en metros"
   ]
  },
  {
   "cell_type": "code",
   "execution_count": 2,
   "id": "0b309ce6",
   "metadata": {},
   "outputs": [],
   "source": [
    "# Plot the  interval velocity vs thickness"
   ]
  },
  {
   "cell_type": "markdown",
   "id": "3a7a9f96",
   "metadata": {},
   "source": [
    "For comparison of the two implementations, complete the following function to perform the sums with loops (note: this is mostly copy-and-paste if you successfully finished the first assignment):"
   ]
  },
  {
   "cell_type": "markdown",
   "id": "086805fe",
   "metadata": {},
   "source": [
    "## Task 2 (Maximum points: 5 of 10)\n",
    "\n",
    "Using `numpy`, `matplotlib`, `numpy.linalg`,`pandas` vectorized  functions, functions, `for`,`while`, `if` and all you have learnt during the course to apply your knowledge to a simple geophysical problem.\n",
    "\n",
    "\n",
    "**Your task**: \n",
    "You must Complete  all points in the task to  get 2 more points as maximum in the  exam.\n",
    "\n",
    "<ol>\n",
    "<li>Read the file **Refraction_Dipping.xls** which contains the  arrival times of a head wave and distances for  several  receptors.</li>\n",
    "<li>Plot the  curve X-T. </li>\n",
    "<li>Analyze the data and write  by ocular inspection and write how many layers</li>\n",
    "<li> Split the data to compute the line (Least Squares Linear Regression method) for the number of layers you identified </li>\n",
    "    \n",
    "* The first  line for the first layer should  intercept b=0, x=0, so take this into account when for the Linear inversion\n",
    "* I suggest you to create a function to compute the matrices for the linear inversion and the special case of b=0 and for the other case\n",
    "    \n",
    "    \n",
    "<li> Plot the number of lines computed by the linear regression  along with the values of distance and Time</li>  \n",
    "    \n",
    "<li> Using the notes `224C3-2006.PDF` find the  equations to calculate the dipping  angle of the layers, apparent velocities and real velocities</li>  \n",
    "</ol>\n",
    "\n"
   ]
  },
  {
   "cell_type": "code",
   "execution_count": 4,
   "id": "2fac71c4",
   "metadata": {},
   "outputs": [],
   "source": [
    "import pandas as pd\n"
   ]
  },
  {
   "cell_type": "code",
   "execution_count": 3,
   "id": "09279a85",
   "metadata": {},
   "outputs": [],
   "source": [
    "# plot the Dromochrones or T-X curves"
   ]
  },
  {
   "cell_type": "markdown",
   "id": "40ed5f21",
   "metadata": {},
   "source": [
    "##### ¿Cuántas capas hay?\n",
    "\n",
    "Se pueden observar 2 capas."
   ]
  },
  {
   "cell_type": "code",
   "execution_count": 16,
   "id": "5baca2a5",
   "metadata": {},
   "outputs": [],
   "source": [
    "def lin_regression():\n",
    "    \n",
    "    \"\"\"Your comments here\n",
    "    \n",
    "    **Arguments**:\n",
    "    \n",
    "   \n",
    "    \n",
    "    **Returns**:\n",
    "    \n",
    "    \n",
    "    \"\"\"\n",
    "   \n",
    "    \n",
    "   \n",
    "    return (a0, a1)"
   ]
  },
  {
   "cell_type": "code",
   "execution_count": 17,
   "id": "601651ad",
   "metadata": {},
   "outputs": [],
   "source": [
    "# apply the function to \n",
    "\n",
    "\n",
    "\n"
   ]
  },
  {
   "cell_type": "code",
   "execution_count": 9,
   "id": "2c1b9100",
   "metadata": {},
   "outputs": [],
   "source": [
    "# plot the curves and the inverted data\n"
   ]
  },
  {
   "cell_type": "markdown",
   "id": "e60cc93b",
   "metadata": {},
   "source": [
    "#### Calculate dipping angle\n",
    "\n",
    "Para calcular el angulo de inclinación $\\gamma$ de la capa usamos la siguiente formúla:\n",
    "\n",
    "$$\\gamma_1=\\frac{1}{2}\\left[ \\arcsin\\left( \\frac{\\nu_1}{\\nu_{2d}} \\right)-\\arcsin\\left( \\frac{\\nu_1}{\\nu_{2u}} \\right) \\right]$$\n",
    "\n",
    "El angulo de incidencia será:\n",
    "\n",
    "$$\\theta_{12}=\\frac{1}{2}\\left[ \\arcsin\\left( \\frac{\\nu_1}{\\nu_{2d}} \\right)+\\arcsin\\left( \\frac{\\nu_1}{\\nu_{2u}} \\right) \\right]$$\n",
    "\n",
    "De las dromocronas podemos calcular diectamente $\\nu_{2d}$ y $\\nu_{2u}$ (velocidades aparentes).\n",
    "\n",
    "La velocidad de la capa 2 será:\n",
    "\n",
    "$$\\nu_2=\\frac{\\nu_1}{\\sin\\theta_{12}}$$"
   ]
  },
  {
   "cell_type": "code",
   "execution_count": 10,
   "id": "6d74ab9c",
   "metadata": {},
   "outputs": [],
   "source": [
    "# Como se mencionó antes, las velocidades son la inversa de las pendientes\n",
    "\n"
   ]
  },
  {
   "cell_type": "code",
   "execution_count": 11,
   "id": "a27d3049",
   "metadata": {},
   "outputs": [],
   "source": [
    "# De los resultados se observa que las velocidades de la primera capa\n",
    "# son muy cercanas, por lo que podemos hacer un promedio de estas dos\n",
    "# para obtener la velocidad en m/s\n",
    "\n",
    "\n",
    "\n",
    "# Ángulos de incidencia y de inclinación del refractor\n",
    "\n",
    "\n",
    "#los angulos están en radianes, los convertimos a grados\n",
    "\n"
   ]
  },
  {
   "cell_type": "code",
   "execution_count": 12,
   "id": "784dac8f",
   "metadata": {},
   "outputs": [],
   "source": [
    "# La velocidad en m/s de la capa dos es entonces:\n",
    "\n"
   ]
  },
  {
   "cell_type": "markdown",
   "id": "6b86d332",
   "metadata": {},
   "source": [
    "#### Resultados\n",
    "\n",
    "- Dipping angle: \n",
    "- Incidence angle: \n",
    "- Velocity of first layer: $\\frac{m}{s}$\n",
    "- Velocity of the second layer:  $\\frac{m}{s}$\n"
   ]
  },
  {
   "cell_type": "markdown",
   "id": "6238ea64",
   "metadata": {},
   "source": [
    "##### The Total number of points that can be  achieved is `10`, therefore all the plots and all the results must  be correctly generated. "
   ]
  },
  {
   "cell_type": "markdown",
   "id": "df905ff1",
   "metadata": {},
   "source": [
    "## GODSPEED"
   ]
  }
 ],
 "metadata": {
  "kernelspec": {
   "display_name": "Python 3 (ipykernel)",
   "language": "python",
   "name": "python3"
  },
  "language_info": {
   "codemirror_mode": {
    "name": "ipython",
    "version": 3
   },
   "file_extension": ".py",
   "mimetype": "text/x-python",
   "name": "python",
   "nbconvert_exporter": "python",
   "pygments_lexer": "ipython3",
   "version": "3.8.10"
  }
 },
 "nbformat": 4,
 "nbformat_minor": 5
}
